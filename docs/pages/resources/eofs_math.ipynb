{
 "cells": [
  {
   "cell_type": "markdown",
   "id": "c3d3bf51-0cf9-4c56-b1fe-722132ab71aa",
   "metadata": {},
   "source": [
    "# Math of EOFs"
   ]
  },
  {
   "cell_type": "code",
   "execution_count": null,
   "id": "6fc3aa79-6254-47a3-9994-17a2e555f55e",
   "metadata": {},
   "outputs": [],
   "source": [
    "import numpy as np\n",
    "import matplotlib.pyplot as plt\n",
    "import seaborn as sns\n",
    "\n",
    "## set plotting preferences and instantiate RNG\n",
    "sns.set(rc={\"axes.facecolor\": \"white\", \"axes.grid\": False})\n",
    "rng = np.random.default_rng()"
   ]
  },
  {
   "cell_type": "markdown",
   "id": "c34c3a3b-5bff-4f13-92c7-7ffb364e45f9",
   "metadata": {},
   "source": [
    "## Generate some data"
   ]
  },
  {
   "cell_type": "code",
   "execution_count": null,
   "id": "4dc6e229-dd26-4204-b056-af6fbabf0f2b",
   "metadata": {},
   "outputs": [],
   "source": [
    "def sample_from_cov(Cxx, n_samples):\n",
    "    \"\"\"Draw 'n_samples' from specified covariance matrix\"\"\"\n",
    "\n",
    "    ## check pos semi-definite\n",
    "    assert np.all(np.diag(Cxx) > 0)\n",
    "    assert np.allclose(Cxx.T, Cxx)\n",
    "\n",
    "    ## cholesky decompose\n",
    "    L = np.linalg.cholesky(Cxx)\n",
    "\n",
    "    ## draw IID samples\n",
    "    Y = rng.normal(size=(Cxx.shape[0], n_samples))\n",
    "\n",
    "    return L @ Y\n",
    "\n",
    "\n",
    "def plot_setup(ax):\n",
    "    \"\"\"modify plot to preferred style\"\"\"\n",
    "\n",
    "    ## equal aspect ratio\n",
    "    ax.set_aspect(\"equal\")\n",
    "\n",
    "    ## plot axes\n",
    "    kwargs = dict(c=\"k\", lw=0.5)\n",
    "    ax.axhline(0, **kwargs)\n",
    "    ax.axvline(0, **kwargs)\n",
    "\n",
    "    ## hide tick labels\n",
    "    ax.set_xticks([])\n",
    "    ax.set_yticks([])\n",
    "\n",
    "    return ax"
   ]
  },
  {
   "cell_type": "markdown",
   "id": "1c1dfed3-92c6-45d4-973a-710a5bdcebfc",
   "metadata": {},
   "source": [
    "## Plot data"
   ]
  },
  {
   "cell_type": "code",
   "execution_count": null,
   "id": "e31a5c00-962b-4544-aa47-54c50ed8ef18",
   "metadata": {},
   "outputs": [],
   "source": [
    "## specify covariance matrix\n",
    "Cxx = np.array([[1.3, -0.7], [-0.7, 0.8]])\n",
    "\n",
    "## draw some samples\n",
    "X = sample_from_cov(Cxx, n_samples=40)\n",
    "\n",
    "## plot samples\n",
    "fig, ax = plt.subplots(figsize=(4, 4))\n",
    "ax = plot_setup(ax)\n",
    "ax.scatter(X[0], X[1])\n",
    "plt.show()"
   ]
  },
  {
   "cell_type": "markdown",
   "id": "923a60c2-e3ea-40de-a507-5daaed624ec5",
   "metadata": {},
   "source": [
    "## Geometric representation"
   ]
  },
  {
   "cell_type": "code",
   "execution_count": null,
   "id": "73f64e40-db38-4ded-a4cc-314dd5e76a54",
   "metadata": {},
   "outputs": [],
   "source": [
    "## specify covariance matrix\n",
    "Cxx = np.array([[1.3, -0.7], [-0.7, 0.8]])\n",
    "\n",
    "## draw some samples\n",
    "x = np.array([2, 1])\n",
    "v = np.array([2, 2])\n",
    "\n",
    "## get projection of x on v\n",
    "xhat = (x.T @ v) / (v.T @ v) * v\n",
    "\n",
    "## get reconstruction error\n",
    "error = x - xhat"
   ]
  },
  {
   "cell_type": "code",
   "execution_count": null,
   "id": "f01189f5-ebc1-484b-8185-1eeef25791c9",
   "metadata": {},
   "outputs": [],
   "source": [
    "## labels for plotting\n",
    "recon_label = r\"Reconstruction $\\left(\\frac{\\mathbf{p}^T\\mathbf{x}}{\\mathbf{p}^T\\mathbf{p}}\\mathbf{p}\\right)$\"\n",
    "error_label = r\"Error $\\left(\\mathbf{x}-\\frac{\\mathbf{p}^T\\mathbf{x}}{\\mathbf{p}^T\\mathbf{p}}\\mathbf{p}\\right)$\"\n",
    "\n",
    "## default args for plotting vector\n",
    "arrow_kwargs = dict(head_width=0.12, width=0.02, length_includes_head=True)\n",
    "\n",
    "## colors for plotting\n",
    "colors = sns.color_palette()\n",
    "\n",
    "## plot samples\n",
    "fig, ax = plt.subplots(figsize=(4, 4))\n",
    "ax.set_aspect(\"equal\")\n",
    "ax.set_xticks([])\n",
    "ax.set_yticks([])\n",
    "ax.scatter(0, 0, c=\"k\", s=50, zorder=10)\n",
    "\n",
    "for i, (u, label) in enumerate(\n",
    "    zip([x, v], [r\"Sample ($\\mathbf{x}$)\", r\"Pattern ($\\mathbf{p}$)\"])\n",
    "):\n",
    "\n",
    "    ## plot sample and pattern\n",
    "    arrow_kwargs = dict(head_width=0.12, width=0.015, length_includes_head=True)\n",
    "    ax.arrow(0, 0, dx=u[1], dy=u[0], color=colors[i], **arrow_kwargs, label=label)\n",
    "\n",
    "\n",
    "## plot projection\n",
    "ax.arrow(\n",
    "    0,\n",
    "    0,\n",
    "    dx=xhat[1],\n",
    "    dy=xhat[0],\n",
    "    color=\"k\",\n",
    "    ls=\"--\",\n",
    "    alpha=0.5,\n",
    "    **arrow_kwargs,\n",
    "    label=recon_label,\n",
    ")\n",
    "\n",
    "## plot error\n",
    "ax.arrow(\n",
    "    x=xhat[1],\n",
    "    y=xhat[0],\n",
    "    dx=error[1],\n",
    "    dy=error[0],\n",
    "    color=\"k\",\n",
    "    **arrow_kwargs,\n",
    "    label=error_label,\n",
    ")\n",
    "\n",
    "ax.legend(prop=dict(size=10))\n",
    "plt.show()"
   ]
  }
 ],
 "metadata": {
  "kernelspec": {
   "display_name": "Python 3 (ipykernel)",
   "language": "python",
   "name": "python3"
  },
  "language_info": {
   "codemirror_mode": {
    "name": "ipython",
    "version": 3
   },
   "file_extension": ".py",
   "mimetype": "text/x-python",
   "name": "python",
   "nbconvert_exporter": "python",
   "pygments_lexer": "ipython3",
   "version": "3.11.10"
  }
 },
 "nbformat": 4,
 "nbformat_minor": 5
}
