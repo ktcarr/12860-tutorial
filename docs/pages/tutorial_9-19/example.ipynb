{
 "cells": [
  {
   "attachments": {},
   "cell_type": "markdown",
   "id": "aa9da500-5ed5-4244-85ae-f5b2df368c45",
   "metadata": {},
   "source": [
    "# Example: Woods Hole temperature variability\n",
    "In this example, we'll go over:\n",
    "\n",
    "1. Loading and plotting gridded climate data  \n",
    "2. Seasonal cycle and long-term trends, and how to compute them\n",
    "3. How to compute/visualize some statistics (e.g., mean & correlation)\n",
    "4. Power spectral density"
   ]
  },
  {
   "cell_type": "markdown",
   "id": "bc7e5e9a-6e67-4dbe-9674-74875096106f",
   "metadata": {},
   "source": [
    "```{admonition} To-do\n",
    "write code as functions (which take in an index, for example)\n",
    "```"
   ]
  },
  {
   "cell_type": "markdown",
   "id": "b0cd92d6-ec93-497d-a124-92ce244cee59",
   "metadata": {},
   "source": [
    "Before beginning, let's import some packages:"
   ]
  },
  {
   "cell_type": "markdown",
   "id": "fb800288-29ce-4b8e-8cb1-724608b5c326",
   "metadata": {},
   "source": [
    "## Package imports"
   ]
  },
  {
   "cell_type": "code",
   "execution_count": null,
   "id": "e188e288-9c30-414d-932a-45c2895bf513",
   "metadata": {},
   "outputs": [],
   "source": [
    "import pathlib\n",
    "import numpy as np\n",
    "import xarray as xr\n",
    "import cartopy.crs as ccrs\n",
    "import matplotlib.pyplot as plt\n",
    "import matplotlib.dates as mdates\n",
    "import datetime\n",
    "import seaborn as sns\n",
    "import cmocean\n",
    "import matplotlib.patches as mpatches\n",
    "import scipy.signal\n",
    "\n",
    "## (optional) remove gridlines from plots\n",
    "sns.set(rc={\"axes.facecolor\": \"white\", \"axes.grid\": False})"
   ]
  },
  {
   "cell_type": "markdown",
   "id": "22ed0dfe-898f-4d37-95f8-c63c16d67b06",
   "metadata": {},
   "source": [
    "## Functions"
   ]
  },
  {
   "cell_type": "markdown",
   "id": "1c0d5e6d-b8c8-45d1-81ec-8a613e55ed68",
   "metadata": {},
   "source": [
    "### Plotting functions"
   ]
  },
  {
   "cell_type": "code",
   "execution_count": null,
   "id": "54e3c29b-d347-47e0-8984-e210a0137011",
   "metadata": {},
   "outputs": [],
   "source": [
    "def plot_setup(fig, projection, lon_range, lat_range):\n",
    "    \"\"\"Add a subplot to the figure with the given map projection\n",
    "    and lon/lat range. Returns an Axes object.\"\"\"\n",
    "\n",
    "    ## increase resolution for projection\n",
    "    ## (otherwise lines plotted on surface won't follow curved trajectories)\n",
    "    projection.threshold /= 1000\n",
    "\n",
    "    ## Create subplot with given projection\n",
    "    ax = fig.add_subplot(projection=projection)\n",
    "\n",
    "    ## Subset to given region\n",
    "    extent = [*lon_range, *lat_range]\n",
    "    ax.set_extent(extent, crs=ccrs.PlateCarree())\n",
    "\n",
    "    ## draw coastlines\n",
    "    ax.coastlines(linewidths=0.5)\n",
    "\n",
    "    return ax\n",
    "\n",
    "\n",
    "def plot_box_outline(ax, lon_range, lat_range):\n",
    "    \"\"\"\n",
    "    Plot box outlining the specifed lon/lat range on given\n",
    "    ax object.\n",
    "    \"\"\"\n",
    "\n",
    "    ## get width and height\n",
    "    height = lat_range[1] - lat_range[0]\n",
    "    width = lon_range[1] - lon_range[0]\n",
    "\n",
    "    ## add rectangle to plot\n",
    "    ax.add_patch(\n",
    "        mpatches.Rectangle(\n",
    "            xy=[lon_range[0], lat_range[0]],\n",
    "            height=height,\n",
    "            width=width,\n",
    "            transform=ccrs.PlateCarree(),\n",
    "            facecolor=\"none\",\n",
    "            edgecolor=\"k\",\n",
    "            linewidth=1,\n",
    "        )\n",
    "    )\n",
    "\n",
    "    return ax\n",
    "\n",
    "\n",
    "def make_cb_range(amp, delta):\n",
    "    \"\"\"Make colorbar_range for cmo.balance\n",
    "    Args:\n",
    "        - 'amp': amplitude of maximum value for colorbar\n",
    "        - 'delta': increment for colorbar\n",
    "    \"\"\"\n",
    "    return np.concatenate(\n",
    "        [np.arange(-amp, 0, delta), np.arange(delta, amp + delta, delta)]\n",
    "    )\n",
    "\n",
    "\n",
    "def spatial_avg(data):\n",
    "    \"\"\"function to compute spatial average of data on grid with constant\n",
    "    longitude/latitude spacing.\"\"\"\n",
    "\n",
    "    ## first, compute cosine of latitude (after converting degrees to radians)\n",
    "    latitude_radians = np.deg2rad(data.latitude)\n",
    "    cos_lat = np.cos(latitude_radians)\n",
    "\n",
    "    ## get weighted average using xarray\n",
    "    avg = data.weighted(weights=cos_lat).mean([\"longitude\", \"latitude\"])\n",
    "\n",
    "    return avg\n",
    "\n",
    "\n",
    "def get_trend(data, dim=\"time\", deg=1):\n",
    "    \"\"\"\n",
    "    Get trend for an xr.dataarray along specified dimension,\n",
    "    by fitting polynomial of degree 'deg'.\n",
    "    \"\"\"\n",
    "\n",
    "    ## Get coefficients for best fit\n",
    "    polyfit_coefs = data.polyfit(dim=dim, deg=deg)[\"polyfit_coefficients\"]\n",
    "\n",
    "    ## Get best fit line (linear trend in this case)\n",
    "    trend = xr.polyval(data[dim], polyfit_coefs)\n",
    "\n",
    "    return trend\n",
    "\n",
    "\n",
    "def detrend(data, dim=\"time\", deg=1):\n",
    "    \"\"\"\n",
    "    Remove trend of degree 'deg' from data, along dimension 'dim'.\n",
    "    \"\"\"\n",
    "\n",
    "    return data - get_trend(data, dim=dim, deg=deg)"
   ]
  },
  {
   "cell_type": "markdown",
   "id": "415ebb2c-9aa4-4a7c-babd-47736da795f0",
   "metadata": {},
   "source": [
    "### Region-specific plotting functions"
   ]
  },
  {
   "cell_type": "code",
   "execution_count": null,
   "id": "ed3fbf5f-1a9d-4864-ba9c-b06be3b64077",
   "metadata": {},
   "outputs": [],
   "source": [
    "def plot_setup_atlantic(fig):\n",
    "    \"\"\"Plot Atlantic region\"\"\"\n",
    "\n",
    "    ## set map projection to orthographic\n",
    "    proj = ccrs.Orthographic(central_longitude=-50, central_latitude=40)\n",
    "\n",
    "    return plot_setup(fig, proj, lon_range=[-100, 0], lat_range=[10, 70])\n",
    "\n",
    "\n",
    "def plot_setup_woodshole(fig):\n",
    "    \"\"\"Plot zoomed-in view of Woods Hole\"\"\"\n",
    "\n",
    "    ## set map projection to orthographic\n",
    "    proj = ccrs.Orthographic(central_longitude=-67.5, central_latitude=40)\n",
    "\n",
    "    return plot_setup(fig, proj, lon_range=[-75, -60], lat_range=[35, 45])"
   ]
  },
  {
   "cell_type": "markdown",
   "id": "127d2050-c910-492e-aeda-162fc44dea27",
   "metadata": {},
   "source": [
    "## Loading and plotting the data"
   ]
  },
  {
   "cell_type": "markdown",
   "id": "5c785dc5-c09a-41fc-bb18-f02e0e7d6d20",
   "metadata": {},
   "source": [
    "### Load the data"
   ]
  },
  {
   "cell_type": "markdown",
   "id": "6badda4a-c327-42bf-a892-ba7352ee522f",
   "metadata": {},
   "source": [
    "```{admonition} To-do\n",
    "Specify the path to the file server in the following code cell.\n",
    "```"
   ]
  },
  {
   "cell_type": "code",
   "execution_count": null,
   "id": "3fc0dec4-3e6b-4528-9708-1286a9613183",
   "metadata": {},
   "outputs": [],
   "source": [
    "## path to the data\n",
    "fp = pathlib.Path(\"/Users/theo/research/nashvar/data/HadISST.nc\")\n",
    "\n",
    "## open the data\n",
    "## '.compute()' loads the data into memory\n",
    "data = xr.open_mfdataset(fp)[\"sst\"].compute()"
   ]
  },
  {
   "cell_type": "markdown",
   "id": "14e7c97f-d676-47ae-a57c-386b79813a9f",
   "metadata": {},
   "source": [
    "### Plot the data at the most recent time\n",
    "We can select the last time step with ```data.isel(time=-1)```."
   ]
  },
  {
   "cell_type": "markdown",
   "id": "db5f6454-439b-4bf1-a295-346860f26d8d",
   "metadata": {},
   "source": [
    "```{admonition} To-do\n",
    "Label this!\n",
    "```"
   ]
  },
  {
   "cell_type": "code",
   "execution_count": null,
   "id": "3438c5e7-8805-4ac9-a18b-2fc1ce5b2b3e",
   "metadata": {},
   "outputs": [],
   "source": [
    "## blank canvas to plot on\n",
    "fig = plt.figure(figsize=(5, 3))\n",
    "\n",
    "## draw background map of Atlantic\n",
    "ax = plot_setup_atlantic(fig)\n",
    "\n",
    "## plot the data\n",
    "plot_data = ax.contourf(\n",
    "    data.longitude,\n",
    "    data.latitude,\n",
    "    data.isel(time=-1),\n",
    "    transform=ccrs.PlateCarree(),\n",
    "    levels=10,\n",
    "    extend=\"both\",\n",
    "    cmap=\"cmo.thermal\",\n",
    ")\n",
    "\n",
    "## create colorbath\n",
    "colorbar = fig.colorbar(plot_data, label=r\"$K$\")\n",
    "\n",
    "## Mark Woods Hole on map\n",
    "ax.scatter(\n",
    "    288.5, 41.5, transform=ccrs.PlateCarree(), marker=\"*\", c=\"k\", s=50, zorder=10\n",
    ")\n",
    "\n",
    "## label\n",
    "ax.set_title(r\"September 2022 $T_{2m}$\")\n",
    "\n",
    "plt.show()"
   ]
  },
  {
   "cell_type": "markdown",
   "id": "9c0f4506-d118-4f19-9ad0-bca42d7f853a",
   "metadata": {},
   "source": [
    "## Define an index\n",
    "Next, let's define the \"Woods Hole temperature index\", $T_{wh}$ as the temperature averaged near Woods Hole. Below, we outline the region to average over."
   ]
  },
  {
   "cell_type": "code",
   "execution_count": null,
   "id": "e5545657-2a31-447e-be9e-ce79e9ac34a2",
   "metadata": {},
   "outputs": [],
   "source": [
    "## define outline of area for computing the index\n",
    "T_WH_LON_RANGE = [287.5, 293.5]\n",
    "T_WH_LAT_RANGE = [39, 44]"
   ]
  },
  {
   "cell_type": "markdown",
   "id": "9f147a66-965a-4810-9a92-d8f48c3cdd9b",
   "metadata": {},
   "source": [
    "Next, overlay an outline of this region on the map from before."
   ]
  },
  {
   "cell_type": "code",
   "execution_count": null,
   "id": "60839e50-f988-4f7e-ad2d-f1125162ae99",
   "metadata": {},
   "outputs": [],
   "source": [
    "## blank canvas to plot on\n",
    "fig = plt.figure(figsize=(5, 3))\n",
    "\n",
    "## draw background map of Atlantic\n",
    "ax = plot_setup_woodshole(fig)\n",
    "\n",
    "## plot the data\n",
    "xx, yy = np.meshgrid(data.longitude.values, data.latitude.values)\n",
    "plot_data = ax.pcolormesh(\n",
    "    xx,\n",
    "    yy,\n",
    "    data.isel(time=-1),\n",
    "    transform=ccrs.PlateCarree(),\n",
    "    cmap=\"cmo.thermal\",\n",
    ")\n",
    "\n",
    "## create colorbath\n",
    "colorbar = fig.colorbar(plot_data, label=r\"$K$\")\n",
    "\n",
    "## Mark Woods Hole on map\n",
    "ax.scatter(\n",
    "    288.5, 41.5, transform=ccrs.PlateCarree(), marker=\"*\", c=\"k\", s=100, zorder=10\n",
    ")\n",
    "\n",
    "## plot outline of region used to compute index\n",
    "ax = plot_box_outline(ax, lon_range=T_WH_LON_RANGE, lat_range=T_WH_LAT_RANGE)\n",
    "\n",
    "## label the plot\n",
    "ax.set_title(r\"September 2022 $T_{2m}$\")\n",
    "\n",
    "plt.show()"
   ]
  },
  {
   "cell_type": "markdown",
   "id": "b53e68d3-8e85-42ab-9ba1-e19962518019",
   "metadata": {},
   "source": [
    "### Compute the index"
   ]
  },
  {
   "cell_type": "code",
   "execution_count": null,
   "id": "b3dcc4f6-197e-4714-bbab-aee45fb3c931",
   "metadata": {},
   "outputs": [],
   "source": [
    "## a function to do the computation\n",
    "def compute_T_wh(x):\n",
    "    \"\"\"Compute Woods Hole temperature index\"\"\"\n",
    "\n",
    "    ## get subset of data inside the box\n",
    "    ## the '[::-1]' is needed because latitude is\n",
    "    ## in descending order in this dataset.\n",
    "    data_subset = x.sel(\n",
    "        latitude=slice(*T_WH_LAT_RANGE[::-1]), longitude=slice(*T_WH_LON_RANGE)\n",
    "    )\n",
    "\n",
    "    ## compute spatial average\n",
    "    return spatial_avg(data_subset)\n",
    "\n",
    "\n",
    "## carry out the computation here\n",
    "idx = compute_T_wh(data)"
   ]
  },
  {
   "cell_type": "markdown",
   "id": "d3d97466-c281-42f6-b403-52d897b85d87",
   "metadata": {},
   "source": [
    "### Plot the index"
   ]
  },
  {
   "cell_type": "code",
   "execution_count": null,
   "id": "3cb8c620-bc0d-4c40-acc0-5de6acfab816",
   "metadata": {},
   "outputs": [],
   "source": [
    "fig, ax = plt.subplots(figsize=(4, 3))\n",
    "\n",
    "## Plot the data\n",
    "ax.plot(idx.time, idx)\n",
    "\n",
    "## restrict to last 50 years\n",
    "ax.set_xlim([datetime.date(1970, 1, 1), None])\n",
    "\n",
    "## label axes\n",
    "ax.set_title(r\"Woods Hole temperature index\")\n",
    "ax.set_ylabel(r\"$K$\")\n",
    "ax.set_xticks(\n",
    "    [datetime.date(1979, 1, 1), datetime.date(2000, 6, 30), datetime.date(2021, 12, 31)]\n",
    ")\n",
    "ax.xaxis.set_major_formatter(mdates.DateFormatter(\"%Y\"))\n",
    "\n",
    "plt.show()"
   ]
  },
  {
   "cell_type": "markdown",
   "id": "00679d55-29bc-4b04-b1dd-7b3bff4f8b5c",
   "metadata": {},
   "source": [
    "## Diagnostics"
   ]
  },
  {
   "cell_type": "markdown",
   "id": "befb97db-d7fd-4302-bef5-64f2fe0877c1",
   "metadata": {},
   "source": [
    "### Seasonal cycle"
   ]
  },
  {
   "cell_type": "code",
   "execution_count": null,
   "id": "b5a05b7f-c2ff-4d5e-933f-28c5ea399761",
   "metadata": {},
   "outputs": [],
   "source": [
    "## compute mean and standard deviation\n",
    "seasonal_mean = idx.groupby(\"time.month\").mean(\"time\")\n",
    "seasonal_std = idx.groupby(\"time.month\").std(\"time\")\n",
    "\n",
    "## plot\n",
    "fig, ax = plt.subplots(figsize=(4, 3))\n",
    "\n",
    "## mean\n",
    "ax.plot(np.arange(1, 13), seasonal_mean, c=\"k\", label=\"mean\")\n",
    "\n",
    "## mean ± std\n",
    "ax.plot(\n",
    "    np.arange(1, 13), seasonal_mean + seasonal_std, c=\"k\", lw=0.5, label=\"mean ± 1 std.\"\n",
    ")\n",
    "ax.plot(np.arange(1, 13), seasonal_mean - seasonal_std, c=\"k\", lw=0.5)\n",
    "\n",
    "## label\n",
    "ax.set_xticks([1, 3, 8, 12], labels=[\"Jan\", \"Mar\", \"Aug\", \"Dec\"])\n",
    "ax.set_title(r\"$T_{wh}$ climatology\")\n",
    "ax.legend()\n",
    "\n",
    "plt.show()"
   ]
  },
  {
   "cell_type": "markdown",
   "id": "f1f5fb47-d15e-4fe8-bd55-0a5fc5ba5da5",
   "metadata": {},
   "source": [
    "### Compute anomalies"
   ]
  },
  {
   "cell_type": "code",
   "execution_count": null,
   "id": "d4a20be1-0c7e-41a7-9d19-b8ded7b62b2c",
   "metadata": {},
   "outputs": [],
   "source": [
    "## compute anomalies at gridpoint level, then recompute temperature index\n",
    "data_anom = data.groupby(\"time.month\") - data.groupby(\"time.month\").mean()\n",
    "idx_anom = compute_T_wh(data_anom).compute()"
   ]
  },
  {
   "cell_type": "markdown",
   "id": "51f787c1-601d-494b-b711-785e1ba80f75",
   "metadata": {},
   "source": [
    "### Compute linear trend"
   ]
  },
  {
   "cell_type": "code",
   "execution_count": null,
   "id": "8b395ad5-a3f1-4051-8db2-8208351adf55",
   "metadata": {},
   "outputs": [],
   "source": [
    "## compute linear trend (set deg=2 for quadratic trend)\n",
    "trend_linear = get_trend(idx_anom, deg=1)"
   ]
  },
  {
   "cell_type": "markdown",
   "id": "7cb1ae3a-5cf8-4821-8704-f10c04b4299d",
   "metadata": {},
   "source": [
    "### Next, let's plot the anomalies"
   ]
  },
  {
   "cell_type": "code",
   "execution_count": null,
   "id": "9d42bd07-31f8-4db4-9525-b6dd27cd24c3",
   "metadata": {},
   "outputs": [],
   "source": [
    "## plot decomposed time series\n",
    "fig, ax = plt.subplots(figsize=(4, 3))\n",
    "\n",
    "## plot the data\n",
    "ax.plot(idx.time, idx_anom)\n",
    "\n",
    "## plot trend lines\n",
    "ax.plot(idx.time, trend_linear, c=\"k\", label=\"linear trend\")\n",
    "\n",
    "## restrict to last 50 years and label axes\n",
    "ax.set_xlim([datetime.date(1970, 1, 1), None])\n",
    "ax.set_ylabel(r\"$K$\")\n",
    "ax.set_xticks(\n",
    "    [datetime.date(1979, 1, 1), datetime.date(2000, 6, 30), datetime.date(2021, 12, 31)]\n",
    ")\n",
    "ax.xaxis.set_major_formatter(mdates.DateFormatter(\"%Y\"))\n",
    "ax.set_title(r\"$T_{wh}$ anomalies\")\n",
    "\n",
    "ax.legend()\n",
    "\n",
    "plt.show()"
   ]
  },
  {
   "cell_type": "markdown",
   "id": "6211477e-eeb1-4207-b5c0-77f372bbd4c3",
   "metadata": {},
   "source": [
    "### Histogram"
   ]
  },
  {
   "cell_type": "code",
   "execution_count": null,
   "id": "57f528d6-2895-4df7-9246-613ba7d25527",
   "metadata": {},
   "outputs": [],
   "source": [
    "## compute histogram\n",
    "hist, bin_edges = np.histogram(idx_anom)\n",
    "\n",
    "## normalize to a probability distribution (PDF)\n",
    "bin_width = bin_edges[1:] - bin_edges[:-1]\n",
    "pdf = hist / (hist * bin_width).sum()\n",
    "\n",
    "## get a normal distribution for comparison\n",
    "gaussian_pdf = scipy.stats.norm(loc=idx_anom.mean(), scale=idx_anom.std())\n",
    "\n",
    "#### Plot result\n",
    "fig, ax = plt.subplots(figsize=(4, 3))\n",
    "\n",
    "## plot histogram\n",
    "ax.stairs(values=pdf, edges=bin_edges)\n",
    "\n",
    "## plot gaussian\n",
    "x = np.linspace(-3, 3)\n",
    "ax.plot(x, gaussian_pdf.pdf(x), c=\"k\")\n",
    "\n",
    "## label\n",
    "ax.set_xlabel(r\"$^{\\circ}C$ anomaly\")\n",
    "ax.set_ylabel(\"Probability\")\n",
    "\n",
    "plt.show()"
   ]
  },
  {
   "cell_type": "markdown",
   "id": "5d780a04-77ef-4a3e-9ad3-cccff99e0715",
   "metadata": {},
   "source": [
    "#### Power spectral density (PSD)"
   ]
  },
  {
   "cell_type": "code",
   "execution_count": null,
   "id": "a715c5d6-adf9-409d-840a-fff99f340e5a",
   "metadata": {},
   "outputs": [],
   "source": [
    "## compute PSD\n",
    "## 'fs' is sampling frequency (units: samples/year)\n",
    "freq, psd = scipy.signal.welch(idx_anom.values, fs=12)\n",
    "\n",
    "## plot result\n",
    "fig, ax = plt.subplots(figsize=(4, 3))\n",
    "ax.loglog(freq, psd)\n",
    "ax.set_xlabel(\"Freq (1/year)\")\n",
    "ax.set_ylabel(r\"PSD (variance $\\cdot$ year)\")\n",
    "plt.show()"
   ]
  },
  {
   "cell_type": "markdown",
   "id": "def80682-17d9-45ae-809f-02d2be3da705",
   "metadata": {},
   "source": [
    "### Spatial correlation"
   ]
  },
  {
   "cell_type": "code",
   "execution_count": null,
   "id": "b2fd06e5-d888-4d97-bf9d-eec477ac8f7c",
   "metadata": {},
   "outputs": [],
   "source": [
    "## get correlation between index and spatial data\n",
    "## detrend the data first, so that we don't pick up warming trend\n",
    "## in the correlation\n",
    "corr = xr.corr(detrend(data_anom), detrend(idx_anom), dim=\"time\")\n",
    "\n",
    "## blank canvas to plot on\n",
    "fig = plt.figure(figsize=(5, 3))\n",
    "\n",
    "## draw background map of Atlantic\n",
    "ax = plot_setup_atlantic(fig)\n",
    "\n",
    "## plot the data\n",
    "plot_data = ax.contourf(\n",
    "    corr.longitude,\n",
    "    corr.latitude,\n",
    "    corr,\n",
    "    transform=ccrs.PlateCarree(),\n",
    "    levels=make_cb_range(1, 0.1),\n",
    "    extend=\"both\",\n",
    "    cmap=\"cmo.balance\",\n",
    ")\n",
    "\n",
    "## create colorbath\n",
    "colorbar = fig.colorbar(plot_data, label=\"Corr.\", ticks=[-1, -0.5, 0, 0.5, 1])\n",
    "\n",
    "## Mark Woods Hole on map\n",
    "ax.scatter(\n",
    "    288.5, 41.5, transform=ccrs.PlateCarree(), marker=\"*\", c=\"magenta\", s=50, zorder=10\n",
    ")\n",
    "\n",
    "## label\n",
    "ax.set_title(r\"Correlation with $T_{wh}$\")\n",
    "\n",
    "plt.show()"
   ]
  }
 ],
 "metadata": {
  "kernelspec": {
   "display_name": "Python 3 (ipykernel)",
   "language": "python",
   "name": "python3"
  },
  "language_info": {
   "codemirror_mode": {
    "name": "ipython",
    "version": 3
   },
   "file_extension": ".py",
   "mimetype": "text/x-python",
   "name": "python",
   "nbconvert_exporter": "python",
   "pygments_lexer": "ipython3",
   "version": "3.12.5"
  }
 },
 "nbformat": 4,
 "nbformat_minor": 5
}
