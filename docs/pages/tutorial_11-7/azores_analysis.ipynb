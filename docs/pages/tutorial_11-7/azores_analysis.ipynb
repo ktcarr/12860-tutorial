{
 "cells": [
  {
   "attachments": {},
   "cell_type": "markdown",
   "id": "18cb89da-0c0b-466e-8479-4cf711949708",
   "metadata": {},
   "source": [
    "# Azores high: analysis\n",
    "The analysis is divided into three parts:\n",
    "1. __\"Observed\" expansion and model validation__: we'll plot the \"observed\" expansion of the Azores High – based on reanalysis output – and compare it to the expansion simulated by the CESM-LME over the overlapping period (approximately 1850-2005). The motivating question is: can we trust the model over the period where it *doesn't* overlap with observations?\n",
    "2. __Time series analysis of model output and comparison to paleo record__: we'll compare statistics between CESM-LME ensembles with different \"external forcing\". In particular, we'll look at four types of forcing: (a) greenhouse gas emissions, (b) orbital/solar variability, (c) volcanic activity, and (d) all of the above (denoted \"Full\" in the paper). We'll also compare the Azores High variability \"Full\" forcing scenario to the $\\delta^{13}C$ variability in the Portuguese stalagmite.\n",
    "3. __Significance testing__: we'll use a Monte-Carlo approach to test for statistical significance of the detected Azores High expansion.\n",
    "\n",
    "To run the notebook, download the pre-computed Azores High Area (AHA) index here: [https://drive.google.com/drive/folders/105TW_8MNUMddEIHKYPgou0iXKG8ZsCNd?usp=sharing](https://drive.google.com/drive/folders/105TW_8MNUMddEIHKYPgou0iXKG8ZsCNd?usp=sharing)."
   ]
  },
  {
   "cell_type": "markdown",
   "id": "93b35aa8-7384-4906-9d77-f463ff0cebc2",
   "metadata": {},
   "source": [
    "## Packages"
   ]
  },
  {
   "cell_type": "code",
   "execution_count": null,
   "id": "22e13d2c-e10b-4b5b-8f75-7a70dc1be3ea",
   "metadata": {},
   "outputs": [],
   "source": [
    "import xarray as xr\n",
    "import numpy as np\n",
    "import pandas as pd\n",
    "import matplotlib.pyplot as plt\n",
    "import seaborn as sns\n",
    "import matplotlib as mpl\n",
    "import pathlib\n",
    "\n",
    "## Set plotting defaults\n",
    "sns.set(rc={\"axes.facecolor\": \"white\", \"axes.grid\": False})"
   ]
  },
  {
   "cell_type": "markdown",
   "id": "22a0bc82-88f5-4dc1-804e-efadc2028ab5",
   "metadata": {},
   "source": [
    "## Utility functions"
   ]
  },
  {
   "cell_type": "code",
   "execution_count": null,
   "id": "09616a49-2c1d-49b3-a158-00ba0b6902b3",
   "metadata": {},
   "outputs": [],
   "source": [
    "def get_empirical_pdf(x, bin_edges=None):\n",
    "    \"\"\"\n",
    "    Estimate the \"empirical\" probability distribution function for the data x.\n",
    "    In this case the result is a normalized histogram,\n",
    "    Normalized means that integrating over the histogram yields 1.\n",
    "    Returns the PDF (normalized histogram) and edges of the histogram bins\n",
    "    \"\"\"\n",
    "\n",
    "    ## compute histogram\n",
    "    if bin_edges is None:\n",
    "        hist, bin_edges = np.histogram(x)\n",
    "\n",
    "    else:\n",
    "        hist, _ = np.histogram(x, bins=bin_edges)\n",
    "\n",
    "    ## normalize to a probability distribution (PDF)\n",
    "    bin_width = bin_edges[1:] - bin_edges[:-1]\n",
    "    pdf = hist / (hist * bin_width).sum()\n",
    "\n",
    "    return pdf, bin_edges"
   ]
  },
  {
   "cell_type": "markdown",
   "id": "2c207376-9f21-447f-bc9b-ddc76def2b88",
   "metadata": {},
   "source": [
    "## Load data"
   ]
  },
  {
   "cell_type": "markdown",
   "id": "3e91246c-5af0-4f9c-890d-d30befb53223",
   "metadata": {},
   "source": [
    "````{admonition} To-do\n",
    "Below, specify the folder where the AHA data is saved (i.e., set the variable called ```AHA_save_fp```). The AHA data can be downloaded here: [https://drive.google.com/drive/folders/105TW_8MNUMddEIHKYPgou0iXKG8ZsCNd?usp=sharing](https://drive.google.com/drive/folders/105TW_8MNUMddEIHKYPgou0iXKG8ZsCNd?usp=sharing).\n",
    "````"
   ]
  },
  {
   "cell_type": "code",
   "execution_count": null,
   "id": "8394f97c-d30a-4e26-85c1-d410e0dcbcfd",
   "metadata": {},
   "outputs": [],
   "source": [
    "## where is the data saved?\n",
    "AHA_save_fp = pathlib.Path(\"data/AHA\")"
   ]
  },
  {
   "cell_type": "markdown",
   "id": "8d09c026-d629-4468-a089-d703a8fb0bd6",
   "metadata": {},
   "source": [
    "Load the data"
   ]
  },
  {
   "cell_type": "code",
   "execution_count": null,
   "id": "7625139a-a5b4-4d9e-8ac4-f8160ac91153",
   "metadata": {},
   "outputs": [],
   "source": [
    "def load_AHA(save_fp):\n",
    "    \"\"\"Load AHA data from given directory\"\"\"\n",
    "\n",
    "    ## names of datasets\n",
    "    names = [\"era\", \"noaa\", \"lme_full\", \"lme_orb\", \"lme_volc\", \"lme_GHG\"]\n",
    "\n",
    "    ## function to get absolute path to dataset\n",
    "    get_fp = lambda name: pathlib.Path(AHA_save_fp, f\"AHA_{name}.nc\")\n",
    "\n",
    "    ## function to open single dataset and rename it\n",
    "    open_single = lambda name: xr.open_dataarray(get_fp(name)).rename(name)\n",
    "\n",
    "    return xr.merge([open_single(name) for name in names])\n",
    "\n",
    "\n",
    "## Load the data\n",
    "aha = load_AHA(AHA_save_fp)"
   ]
  },
  {
   "cell_type": "markdown",
   "id": "32599842-f855-44a2-a44f-77a9d805a58f",
   "metadata": {},
   "source": [
    "### LME model validation (Fig 2c)\n",
    "Metric: 25-year rolling count of AHA extremes"
   ]
  },
  {
   "cell_type": "code",
   "execution_count": null,
   "id": "0dcb96ed-ce8a-4346-984d-70ed931412af",
   "metadata": {},
   "outputs": [],
   "source": [
    "def count_extremes(AHA, cutoff_perc=90.0, window=25):\n",
    "    \"\"\"Get rolling count of Azores High extreme events.\n",
    "    Args:\n",
    "    - cutoff_perc is percentile value in range (0 and 100) used to define\n",
    "        'extreme' events\n",
    "    - window is an integer specifying how many years the rolling window is.\n",
    "    \"\"\"\n",
    "\n",
    "    ## get threshold for extreme events\n",
    "    threshold = AHA.quantile(q=cutoff_perc / 100)\n",
    "\n",
    "    ## Get boolean array: True if AHA exceeds thresh\n",
    "    exceeds_thresh = AHA > threshold\n",
    "\n",
    "    ## put NaNs back in the array\n",
    "    exceeds_thresh = exceeds_thresh.where(~np.isnan(AHA))\n",
    "\n",
    "    ## Get rolling count\n",
    "    rolling_kwargs = dict(dim={\"year\": window}, center=True, min_periods=window)\n",
    "    rolling_count = exceeds_thresh.rolling(**rolling_kwargs).mean() * window\n",
    "\n",
    "    return rolling_count"
   ]
  },
  {
   "cell_type": "code",
   "execution_count": null,
   "id": "49112e69-e42b-4480-a6d7-6137107a3646",
   "metadata": {},
   "outputs": [],
   "source": [
    "## count extremes (from 1850-2005)\n",
    "extreme_count = count_extremes(aha.sel(year=slice(1850, 2005)))\n",
    "\n",
    "## make plot\n",
    "fig, ax = plt.subplots(figsize=(6, 3))\n",
    "\n",
    "## plot reanalysis\n",
    "ax.plot(extreme_count.year, extreme_count[\"noaa\"], label=\"NOAA\", c=\"purple\")\n",
    "ax.plot(extreme_count.year, extreme_count[\"era\"], label=\"ERA\", c=\"blue\")\n",
    "\n",
    "# ## plot LME mean and min/max range\n",
    "ax.plot(\n",
    "    extreme_count.year,\n",
    "    extreme_count[\"lme_full\"].mean(\"ensemble_member\"),\n",
    "    label=\"LME\",\n",
    "    c=\"orange\",\n",
    ")\n",
    "ax.plot(\n",
    "    extreme_count.year,\n",
    "    extreme_count[\"lme_full\"].max(\"ensemble_member\"),\n",
    "    c=\"orange\",\n",
    "    lw=0.5,\n",
    ")\n",
    "ax.plot(\n",
    "    extreme_count.year,\n",
    "    extreme_count[\"lme_full\"].min(\"ensemble_member\"),\n",
    "    c=\"orange\",\n",
    "    lw=0.5,\n",
    ")\n",
    "\n",
    "# ax.plot(rolling_count.year, rolling_count[\"era\"])\n",
    "\n",
    "## label plot\n",
    "ax.legend()\n",
    "ax.set_xlabel(\"Year\")\n",
    "ax.set_ylabel(\"Count (25-yr rolling)\")\n",
    "plt.show()"
   ]
  },
  {
   "cell_type": "markdown",
   "id": "cb311e31-2b95-4826-b969-5d188bc9b951",
   "metadata": {},
   "source": [
    "### LME single-forcing comparison (Fig 3d,3e)"
   ]
  },
  {
   "cell_type": "markdown",
   "id": "194380af-6f14-4619-ab82-2c55b87e4535",
   "metadata": {},
   "source": [
    "#### Functions for loading paleo data and binning by century"
   ]
  },
  {
   "cell_type": "code",
   "execution_count": null,
   "id": "d4db5b37-4eba-4afb-a54e-e79be7d5d0fd",
   "metadata": {},
   "outputs": [],
   "source": [
    "def load_paleo_data():\n",
    "    \"\"\"\n",
    "    Function to load Paleo data. Description of data here:\n",
    "    https://www.ncei.noaa.gov/access/paleo-search/study/37160\n",
    "    \"\"\"\n",
    "\n",
    "    ## data is located at following link:\n",
    "    fp = r\"https://www.ncei.noaa.gov/pub/data/paleo/speleothem/europe/portugal/thatcher2022/thatcher2022-composite_isotope_records.txt\"\n",
    "\n",
    "    ## open dataset using Pandas\n",
    "    paleo_data = pd.read_csv(fp, skiprows=117, sep=r\"\\s+\").set_index(\"age_CE\")\n",
    "\n",
    "    ## convert to xarray and rename coordinate \"year\"\n",
    "    paleo_data = paleo_data.to_xarray().rename({\"age_CE\": \"year\"})\n",
    "\n",
    "    ## switch order of year coordinate so that it's increasing\n",
    "    paleo_data = paleo_data.reindex({\"year\": paleo_data.year.values[::-1]})\n",
    "\n",
    "    return paleo_data\n",
    "\n",
    "\n",
    "def floor_nearest100(x):\n",
    "    \"\"\"rounds down to nearest 100\"\"\"\n",
    "\n",
    "    return np.floor(x / 100) * 100\n",
    "\n",
    "\n",
    "def bin_by_century(data, bin_offset=0):\n",
    "    \"\"\"\n",
    "    Function to bin data by century. Args:\n",
    "    - 'bin_offset' is number in [0, 100) representing\n",
    "        where the first bin begins.\n",
    "    \"\"\"\n",
    "\n",
    "    ## Get century to label data with\n",
    "    century = floor_nearest100(data[\"year\"] - bin_offset) + bin_offset\n",
    "\n",
    "    ## add century as new coordinate on data\n",
    "    ## (this makes it easy to group data by century)\n",
    "    data = data.assign_coords({\"century\": century.astype(int)})\n",
    "\n",
    "    # get mean for each century\n",
    "    data_binned = data.groupby(\"century\").mean()\n",
    "\n",
    "    return data_binned"
   ]
  },
  {
   "cell_type": "markdown",
   "id": "a883b54b-fb4d-4d1b-a2f8-4ff669068dcc",
   "metadata": {},
   "source": [
    "#### Compute stats"
   ]
  },
  {
   "cell_type": "code",
   "execution_count": null,
   "id": "e323969c-af57-453b-badc-57f5a260d08c",
   "metadata": {},
   "outputs": [],
   "source": [
    "## Load paleo data\n",
    "paleo_data = load_paleo_data()\n",
    "\n",
    "## Get count of extremes on full LME simulation (100-year window)\n",
    "extreme_count_100 = count_extremes(\n",
    "    aha.drop_vars([\"era\", \"noaa\"]), window=100, cutoff_perc=90\n",
    ")\n",
    "\n",
    "## drop NaN values at start/end (from sliding window)\n",
    "extreme_count_100 = extreme_count_100.sel(year=slice(901, 1956))\n",
    "\n",
    "## Compute binned average for paleo data\n",
    "offset = 25  # the first bin begins at year (800 + offset)\n",
    "paleo_data_binned = bin_by_century(paleo_data, bin_offset=offset)\n",
    "\n",
    "## compute binned average for AHA ensemble mean\n",
    "aha_mean_binned = bin_by_century(aha.mean(\"ensemble_member\"), bin_offset=offset)\n",
    "\n",
    "## combined binned data into single DataArray\n",
    "data_binned = xr.merge([paleo_data_binned, aha_mean_binned])"
   ]
  },
  {
   "cell_type": "markdown",
   "id": "0f9326ca-ade6-447e-8268-ca9046dfcb83",
   "metadata": {},
   "source": [
    "#### Plotting functions"
   ]
  },
  {
   "cell_type": "code",
   "execution_count": null,
   "id": "480b4010-a3d5-461a-bc80-19a42b96fc3f",
   "metadata": {},
   "outputs": [],
   "source": [
    "def plot_LME_extremes(ax, extreme_count):\n",
    "    \"\"\"function to plot LME extremes on ax object\"\"\"\n",
    "\n",
    "    ## specify colors and linestyles for each LME run\n",
    "    varnames = [\"lme_full\", \"lme_GHG\", \"lme_volc\", \"lme_orb\"]\n",
    "    labels = [\"Full\", \"GHG\", \"Volcanic\", \"Solar\"]\n",
    "    colors = [\"k\", \"green\", \"red\", \"orange\"]\n",
    "    scales = [1, 0.75, 0.5, 0.5]\n",
    "\n",
    "    ## Plot lines one-by-one\n",
    "    for label, varname, color, scale in zip(labels, varnames, colors, scales):\n",
    "\n",
    "        ## get linewidth based on scale\n",
    "        mean_width = 2.0 * scale\n",
    "        range_width = 0.5 * scale\n",
    "\n",
    "        ## plot ensemble mean\n",
    "        ax.plot(\n",
    "            extreme_count.year,\n",
    "            extreme_count[varname].mean(\"ensemble_member\", skipna=True),\n",
    "            label=label,\n",
    "            c=color,\n",
    "            lw=mean_width,\n",
    "        )\n",
    "\n",
    "    ## plot standard deviation for \"Full\" run\n",
    "    mean_ = extreme_count[\"lme_full\"].mean(\"ensemble_member\")\n",
    "    std_ = extreme_count[\"lme_full\"].std(\"ensemble_member\")\n",
    "    ax.fill_between(\n",
    "        extreme_count.year, mean_ + std_, mean_ - std_, color=\"k\", alpha=0.07\n",
    "    )\n",
    "\n",
    "    ## label plot\n",
    "    ax.legend(prop={\"size\": 8})\n",
    "    ax.set_xlabel(\"Year\")\n",
    "    ax.set_ylabel(\"Extreme events\")\n",
    "    ax.set_yticks([5, 10, 15, 20])\n",
    "    # ax.set_ylim([None, 20])\n",
    "\n",
    "    return ax\n",
    "\n",
    "\n",
    "def plot_paleo_comparison(ax, data_binned):\n",
    "    \"\"\"function to plot paleo data and AHA over time\"\"\"\n",
    "\n",
    "    ## get edges of bins (used for plotting)\n",
    "    bin_starts = data_binned.century.values\n",
    "    bin_edges = np.insert(bin_starts, obj=len(bin_starts), values=bin_starts[-1] + 100)\n",
    "\n",
    "    ## get color for paleo plot\n",
    "    color_paleo = sns.color_palette()[0]\n",
    "\n",
    "    ## plot paleo data first\n",
    "    paleo_plot = ax.stairs(data_binned[\"d13C_compSuess\"], bin_edges, color=color_paleo)\n",
    "    ax.set_ylabel(r\"$\\delta^{13}C$\", c=color_paleo)\n",
    "    ax.set_yticks([-1, -2, -3], labels=[-1, -2, -3], color=color_paleo)\n",
    "    ax.set_xlim([830, 2020])\n",
    "\n",
    "    ## plot AHA on same x-axis\n",
    "    ax1 = ax.twinx()\n",
    "    ax1.stairs(data_binned[\"lme_full\"], bin_edges, color=\"k\", ls=\"--\")\n",
    "    ax1.set_ylabel(r\"Azores area ($km^2$)\")\n",
    "    ax1.set_yticks([9e6, 11e6, 13e6])\n",
    "    ax1.set_ylim([9e6, 14e6])\n",
    "\n",
    "    return ax, ax1"
   ]
  },
  {
   "cell_type": "markdown",
   "id": "8480b976-9da0-4742-a788-869e6e505b4c",
   "metadata": {},
   "source": [
    "#### Make plot:"
   ]
  },
  {
   "cell_type": "code",
   "execution_count": null,
   "id": "ef2c725f-798d-4cd5-bf81-a287935fc5ce",
   "metadata": {},
   "outputs": [],
   "source": [
    "fig = plt.figure(figsize=(7, 5))\n",
    "gs = mpl.gridspec.GridSpec(2, 1, height_ratios=[0.7, 1])\n",
    "\n",
    "## plot binned paleo data and AHA over time\n",
    "ax0 = fig.add_subplot(gs[0])\n",
    "ax00, ax01 = plot_paleo_comparison(ax0, data_binned)\n",
    "ax00.set_xticks([])\n",
    "\n",
    "## Plot extreme count over time\n",
    "ax1 = fig.add_subplot(gs[1])\n",
    "ax1 = plot_LME_extremes(ax1, extreme_count_100)\n",
    "\n",
    "## make sure x-axes match\n",
    "ax1.set_xlim(ax0.get_xlim())\n",
    "\n",
    "plt.show()"
   ]
  },
  {
   "cell_type": "markdown",
   "id": "a1a56db4-7696-45ea-98c2-67461961fedb",
   "metadata": {},
   "source": [
    "### Azores High distribution shift (Fig. 3b)"
   ]
  },
  {
   "cell_type": "markdown",
   "id": "eb2a5536-112b-4baa-9e9a-fd5a3bfeac25",
   "metadata": {},
   "source": [
    "Split data into pre- and post-industrial, and compute PDFs"
   ]
  },
  {
   "cell_type": "code",
   "execution_count": null,
   "id": "d58be0eb-0248-438d-8ec7-5197234076fc",
   "metadata": {},
   "outputs": [],
   "source": [
    "## split data into pre-industrial control and historical\n",
    "aha_PI = aha[\"lme_full\"].sel(year=slice(None, 1850))\n",
    "aha_hist = aha[\"lme_full\"].sel(year=slice(1851, 2005))\n",
    "\n",
    "## compute PDFs\n",
    "pdf_PI, edges = get_empirical_pdf(aha_PI.values.flatten())\n",
    "pdf_hist, _ = get_empirical_pdf(aha_hist.values.flatten())"
   ]
  },
  {
   "cell_type": "code",
   "execution_count": null,
   "id": "67b3b50c-96cf-498c-a3a5-17f24718ef97",
   "metadata": {},
   "outputs": [],
   "source": [
    "#### Plot result\n",
    "fig, ax = plt.subplots(figsize=(4, 3))\n",
    "\n",
    "## plot histogram\n",
    "ax.stairs(values=pdf_PI, edges=edges, label=\"PI\")\n",
    "ax.stairs(values=pdf_hist, edges=edges, label=\"hist\")\n",
    "\n",
    "## label\n",
    "ax.set_xlabel(r\"Azores High area ($km^{2}$)\")\n",
    "ax.set_ylabel(\"Density\")\n",
    "\n",
    "ax.legend()\n",
    "ax.set_title(\"PDF\")\n",
    "\n",
    "plt.show()"
   ]
  },
  {
   "cell_type": "markdown",
   "id": "df9d9b60-3bad-4ed5-acd5-a85cad877dcf",
   "metadata": {},
   "source": [
    "### PDF of extreme events (Fig. 3c)"
   ]
  },
  {
   "cell_type": "markdown",
   "id": "8264bb75-662a-4268-b385-134f17dfedfd",
   "metadata": {},
   "source": [
    "First, let's plot the PDF of extreme events for individual samples and for the ensemble mean."
   ]
  },
  {
   "cell_type": "code",
   "execution_count": null,
   "id": "f9ec2d1c-0d18-4bfc-b207-cd2d598d6de0",
   "metadata": {},
   "outputs": [],
   "source": [
    "## specify bin edges\n",
    "pdf, edges = get_empirical_pdf(\n",
    "    extreme_count_100[\"lme_full\"].values.flatten(), bin_edges=np.arange(1.5, 21.5, 1)\n",
    ")\n",
    "\n",
    "## Get sample from last year of LME simulation for comparison\n",
    "last_sample = extreme_count_100[\"lme_full\"].isel(year=-1)\n",
    "\n",
    "#### Plot result\n",
    "fig, ax = plt.subplots(figsize=(4, 3))\n",
    "\n",
    "## plot histogram\n",
    "ax.stairs(values=pdf, edges=edges, color=\"gray\")\n",
    "\n",
    "# plot samples from last 100 years\n",
    "ax.scatter(\n",
    "    last_sample, xr.zeros_like(last_sample), marker=\"o\", c=\"r\", s=10, label=\"1905-2005\"\n",
    ")\n",
    "\n",
    "## label\n",
    "ax.set_xlabel(r\"Extreme events per 100 yrs\")\n",
    "ax.set_ylabel(\"Density\")\n",
    "ax.set_title(\"PDF: individual ensemble members\")\n",
    "ax.set_yticks([0, 0.05, 0.1, 0.15])\n",
    "ax.set_ylim([-0.01, None])\n",
    "ax.legend()\n",
    "\n",
    "plt.show()"
   ]
  },
  {
   "cell_type": "markdown",
   "id": "f589e7b5-29b7-4e2f-829d-53d9243cccd6",
   "metadata": {},
   "source": [
    "Next, do the same thing but for the ensemble mean"
   ]
  },
  {
   "cell_type": "code",
   "execution_count": null,
   "id": "a5eb2f87-f920-410c-9dac-7becfd2de0ea",
   "metadata": {},
   "outputs": [],
   "source": [
    "## specify bin edges\n",
    "pdf, edges = get_empirical_pdf(\n",
    "    extreme_count_100[\"lme_full\"].mean(\"ensemble_member\"),\n",
    "    bin_edges=np.arange(7 + 1 / 26, 15, 4 / 13),\n",
    ")\n",
    "\n",
    "## Get sample from last year of LME simulation for comparison\n",
    "last_sample = extreme_count_100[\"lme_full\"].isel(year=-1).mean(\"ensemble_member\")\n",
    "\n",
    "#### Plot result\n",
    "fig, ax = plt.subplots(figsize=(4, 3))\n",
    "\n",
    "## plot histogram\n",
    "ax.stairs(values=pdf, edges=edges, color=\"gray\")\n",
    "\n",
    "# plot samples from last 100 years\n",
    "ax.scatter(last_sample, 0, marker=\"*\", c=\"r\", label=\"1905-2005\")\n",
    "\n",
    "## label\n",
    "ax.set_xlabel(r\"Extreme events per 100 yrs\")\n",
    "ax.set_ylabel(\"Density\")\n",
    "ax.set_title(\"PDF: ensemble mean\")\n",
    "ax.set_ylim([-0.05, None])\n",
    "ax.legend()\n",
    "\n",
    "plt.show()"
   ]
  },
  {
   "cell_type": "markdown",
   "id": "672878aa-c2a4-48ad-af35-b72bd52f8b1f",
   "metadata": {},
   "source": [
    "#### Monte-Carlo approach"
   ]
  },
  {
   "cell_type": "markdown",
   "id": "c43c5316-2b74-4f7e-a03a-e5f4898d7165",
   "metadata": {},
   "source": [
    "Next, let's use a Monte-Carlo approach to check the statistical signficance of the increase in extreme events. Below, draw random samples."
   ]
  },
  {
   "cell_type": "code",
   "execution_count": null,
   "id": "872e4600-e28f-49f9-b074-4d84943d6c24",
   "metadata": {},
   "outputs": [],
   "source": [
    "## number of random samples to draw\n",
    "n_samples = int(1e6)\n",
    "\n",
    "## initialize a random number generator\n",
    "rng = np.random.default_rng()\n",
    "\n",
    "## for convenience, get number of years and ensemble size\n",
    "ensemble_size = len(extreme_count_100.ensemble_member)\n",
    "n_years = len(extreme_count_100.year)\n",
    "\n",
    "## draw random indices for sampling\n",
    "## Note: different set of indices for each ensemble member!\n",
    "rand_idx = rng.choice(n_years, size=(ensemble_size, n_samples))\n",
    "\n",
    "## Select the samples from the data\n",
    "rand_samples = np.take_along_axis(\n",
    "    arr=extreme_count_100[\"lme_full\"].values, indices=rand_idx, axis=1\n",
    ")\n",
    "\n",
    "## Take \"ensemble sum\" of random samples\n",
    "rand_samples_ens_mean = rand_samples.mean(0)"
   ]
  },
  {
   "cell_type": "markdown",
   "id": "a0dccfd3-af7f-45ef-add1-14e665fb85ee",
   "metadata": {},
   "source": [
    "Next, plot the Monte-Carlo PDF and the ensemble mean from the last sample."
   ]
  },
  {
   "cell_type": "code",
   "execution_count": null,
   "id": "acdefcb0-47eb-469a-b401-fbfde719cff8",
   "metadata": {},
   "outputs": [],
   "source": [
    "## specify bin edges\n",
    "pdf, edges = get_empirical_pdf(\n",
    "    rand_samples_ens_mean, bin_edges=np.arange(6 - 1 / 26, 14 + 3 / 26, 1 / 13)\n",
    ")\n",
    "\n",
    "## Get sample from last year of LME simulation for comparison\n",
    "last_sample = extreme_count_100[\"lme_full\"].isel(year=-1).mean(\"ensemble_member\")\n",
    "\n",
    "#### Plot result\n",
    "fig, ax = plt.subplots(figsize=(4, 3))\n",
    "\n",
    "## plot histogram\n",
    "ax.stairs(values=pdf, edges=edges, color=\"gray\")\n",
    "\n",
    "# plot samples from last 100 years\n",
    "ax.scatter(\n",
    "    last_sample,\n",
    "    0,\n",
    "    marker=\"*\",\n",
    "    c=\"r\",\n",
    "    label=\"1905-2005 mean\",\n",
    ")\n",
    "\n",
    "## label\n",
    "ax.set_xlabel(r\"Extreme events per 100 yrs\")\n",
    "ax.set_ylabel(\"Density\")\n",
    "ax.set_title(\"PDF: ensemble mean\")\n",
    "ax.set_ylim([-0.05, None])\n",
    "ax.legend(prop=dict(size=8))\n",
    "\n",
    "plt.show()"
   ]
  }
 ],
 "metadata": {
  "kernelspec": {
   "display_name": "Python 3 (ipykernel)",
   "language": "python",
   "name": "python3"
  },
  "language_info": {
   "codemirror_mode": {
    "name": "ipython",
    "version": 3
   },
   "file_extension": ".py",
   "mimetype": "text/x-python",
   "name": "python",
   "nbconvert_exporter": "python",
   "pygments_lexer": "ipython3",
   "version": "3.11.10"
  }
 },
 "nbformat": 4,
 "nbformat_minor": 5
}
